{
 "cells": [
  {
   "cell_type": "code",
   "execution_count": 16,
   "metadata": {},
   "outputs": [],
   "source": [
    "a = 1"
   ]
  },
  {
   "cell_type": "code",
   "execution_count": 17,
   "metadata": {},
   "outputs": [],
   "source": [
    "class ineuron:\n",
    "    pass"
   ]
  },
  {
   "cell_type": "code",
   "execution_count": 18,
   "metadata": {},
   "outputs": [],
   "source": [
    "class ineuron:\n",
    "\n",
    "    def ineuron1(self):\n",
    "        print(\"ineuron is a company in edtech\")\n",
    "    \n",
    "    def ineuron_students(self):\n",
    "        print(\"Students are amazing in ineuron\")\n",
    "\n",
    "    def ineuron_support(self):\n",
    "        print(\"yes, we do give support\")\n",
    "\n",
    "    def ineuron_fee(self):\n",
    "        print(\"its very very affordable\")"
   ]
  },
  {
   "cell_type": "code",
   "execution_count": 19,
   "metadata": {},
   "outputs": [],
   "source": [
    "b = ineuron()"
   ]
  },
  {
   "cell_type": "code",
   "execution_count": 20,
   "metadata": {},
   "outputs": [
    {
     "data": {
      "text/plain": [
       "<bound method ineuron.ineuron1 of <__main__.ineuron object at 0x0000018F199DCAD0>>"
      ]
     },
     "execution_count": 20,
     "metadata": {},
     "output_type": "execute_result"
    }
   ],
   "source": [
    "b.ineuron1"
   ]
  },
  {
   "cell_type": "code",
   "execution_count": 21,
   "metadata": {},
   "outputs": [
    {
     "name": "stdout",
     "output_type": "stream",
     "text": [
      "ineuron is a company in edtech\n"
     ]
    }
   ],
   "source": [
    "b.ineuron1()"
   ]
  },
  {
   "cell_type": "code",
   "execution_count": 22,
   "metadata": {},
   "outputs": [
    {
     "name": "stdout",
     "output_type": "stream",
     "text": [
      "Students are amazing in ineuron\n"
     ]
    }
   ],
   "source": [
    "b.ineuron_students()"
   ]
  },
  {
   "cell_type": "code",
   "execution_count": 23,
   "metadata": {},
   "outputs": [
    {
     "name": "stdout",
     "output_type": "stream",
     "text": [
      "yes, we do give support\n"
     ]
    }
   ],
   "source": [
    "b.ineuron_support()"
   ]
  },
  {
   "cell_type": "code",
   "execution_count": 24,
   "metadata": {},
   "outputs": [
    {
     "name": "stdout",
     "output_type": "stream",
     "text": [
      "its very very affordable\n"
     ]
    }
   ],
   "source": [
    "b.ineuron_fee()"
   ]
  },
  {
   "cell_type": "code",
   "execution_count": 25,
   "metadata": {},
   "outputs": [
    {
     "name": "stdout",
     "output_type": "stream",
     "text": [
      "yes, we do give support\n"
     ]
    }
   ],
   "source": [
    "def ineuron_support():\n",
    "    print(\"yes, we do give support\")\n",
    "\n",
    "ineuron_support()"
   ]
  },
  {
   "cell_type": "code",
   "execution_count": 26,
   "metadata": {},
   "outputs": [],
   "source": [
    "class mongodb:\n",
    "    \n",
    "    def connect(self):\n",
    "        print(\"This function will help you to connect with your mongodb\")\n",
    "        \n",
    "    def insert(self):\n",
    "        print(\"This function will help you to insert into mongodb\")\n",
    "    \n",
    "    def update(self):\n",
    "        print(\"This function will help you to update in mongodb\")"
   ]
  },
  {
   "cell_type": "code",
   "execution_count": 46,
   "metadata": {},
   "outputs": [],
   "source": [
    "import pymongo\n",
    "from pymongo.mongo_client import MongoClient\n",
    "class mongodb:\n",
    "\n",
    "    def __init__(self, userid, password):\n",
    "        self.userid = userid\n",
    "        self.password = password\n",
    "    \n",
    "    def connect(self):\n",
    "        print(\"This function will help you to connect with your mongodb\")\n",
    "        url = \"mongodb+srv://\" + self.userid + \":\" + self.password + \"@cluster0.kiakaec.mongodb.net/?retryWrites=true&w=majority\"\n",
    "        # Create a new client and connect to the server\n",
    "        client = MongoClient(url)\n",
    "        return client\n",
    "\n",
    "\n",
    "\n",
    "    def insert(self,conn,data):\n",
    "        print(\"This function will help you to insert into mongodb\")\n",
    "        db = conn['mongodb_test']\n",
    "        coll = db[\"mongo_record\"]\n",
    "        coll.insert_one(data)\n",
    "    \n",
    "    def update(self):\n",
    "        print(\"This function will help you to update in mongodb\")"
   ]
  },
  {
   "cell_type": "code",
   "execution_count": 47,
   "metadata": {},
   "outputs": [],
   "source": [
    "mongo = mongodb(\"Pooja\", \"pooja\")"
   ]
  },
  {
   "cell_type": "code",
   "execution_count": 48,
   "metadata": {},
   "outputs": [
    {
     "data": {
      "text/plain": [
       "'pooja'"
      ]
     },
     "execution_count": 48,
     "metadata": {},
     "output_type": "execute_result"
    }
   ],
   "source": [
    "mongo.password"
   ]
  },
  {
   "cell_type": "code",
   "execution_count": 49,
   "metadata": {},
   "outputs": [
    {
     "data": {
      "text/plain": [
       "'Pooja'"
      ]
     },
     "execution_count": 49,
     "metadata": {},
     "output_type": "execute_result"
    }
   ],
   "source": [
    "mongo.userid"
   ]
  },
  {
   "cell_type": "code",
   "execution_count": 51,
   "metadata": {},
   "outputs": [
    {
     "name": "stdout",
     "output_type": "stream",
     "text": [
      "This function will help you to connect with your mongodb\n"
     ]
    }
   ],
   "source": [
    "coon = mongo.connect()"
   ]
  },
  {
   "cell_type": "code",
   "execution_count": 52,
   "metadata": {},
   "outputs": [
    {
     "data": {
      "text/plain": [
       "MongoClient(host=['ac-vsmmujj-shard-00-02.kiakaec.mongodb.net:27017', 'ac-vsmmujj-shard-00-01.kiakaec.mongodb.net:27017', 'ac-vsmmujj-shard-00-00.kiakaec.mongodb.net:27017'], document_class=dict, tz_aware=False, connect=True, retrywrites=True, w='majority', authsource='admin', replicaset='atlas-114ay2-shard-0', tls=True)"
      ]
     },
     "execution_count": 52,
     "metadata": {},
     "output_type": "execute_result"
    }
   ],
   "source": [
    "coon"
   ]
  },
  {
   "cell_type": "code",
   "execution_count": 42,
   "metadata": {},
   "outputs": [
    {
     "name": "stdout",
     "output_type": "stream",
     "text": [
      "This function will help you to connect with your mongodb\n",
      "This function will help you to insert into mongodb\n"
     ]
    }
   ],
   "source": [
    "mongo.insert({\"name\": \"pooja\", \"number\": 123456789})"
   ]
  },
  {
   "cell_type": "code",
   "execution_count": 59,
   "metadata": {},
   "outputs": [],
   "source": [
    "import pymongo\n",
    "from pymongo.mongo_client import MongoClient\n",
    "\n",
    "class mongodb:\n",
    "\n",
    "    def __init__(self, userid, password):\n",
    "        \"\"\"\n",
    "        This is a code for mongodb connectivity and its related application\n",
    "        \"\"\"\n",
    "        self.userid = userid\n",
    "        self.password = password\n",
    "       \n",
    "    \n",
    "    def connect(self):\n",
    "        print(\"This function will help you to connect with your mongodb\")\n",
    "        url = \"mongodb+srv://\" + self.userid + \":\" + self.password + \"@cluster0.kiakaec.mongodb.net/?retryWrites=true&w=majority\"\n",
    "        # Create a new client and connect to the server\n",
    "        client = MongoClient(url)\n",
    "        return client\n",
    "\n",
    "\n",
    "\n",
    "    def insert(self, data):\n",
    "        conn = self.connect()\n",
    "        print(\"This function will help you to insert into mongodb\")\n",
    "        db = conn['mongodb_test']\n",
    "        coll = db[\"mongo_record\"]\n",
    "        coll.insert_one(data)\n",
    "    \n",
    "    def update(self):\n",
    "        print(\"This function will help you to update in mongodb\")"
   ]
  },
  {
   "cell_type": "code",
   "execution_count": 60,
   "metadata": {},
   "outputs": [],
   "source": [
    "mongo = mongodb(\"Pooja\", \"pooja\")"
   ]
  },
  {
   "cell_type": "code",
   "execution_count": 61,
   "metadata": {},
   "outputs": [
    {
     "name": "stdout",
     "output_type": "stream",
     "text": [
      "This function will help you to connect with your mongodb\n",
      "This function will help you to insert into mongodb\n"
     ]
    }
   ],
   "source": [
    "mongo.insert({\"name\": \"pooja\", \"number\": 123456789})\n"
   ]
  },
  {
   "cell_type": "code",
   "execution_count": null,
   "metadata": {},
   "outputs": [],
   "source": []
  }
 ],
 "metadata": {
  "kernelspec": {
   "display_name": "Python 3",
   "language": "python",
   "name": "python3"
  },
  "language_info": {
   "codemirror_mode": {
    "name": "ipython",
    "version": 3
   },
   "file_extension": ".py",
   "mimetype": "text/x-python",
   "name": "python",
   "nbconvert_exporter": "python",
   "pygments_lexer": "ipython3",
   "version": "3.11.2"
  },
  "orig_nbformat": 4
 },
 "nbformat": 4,
 "nbformat_minor": 2
}
